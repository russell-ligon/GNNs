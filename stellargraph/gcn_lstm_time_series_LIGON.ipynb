{
  "nbformat": 4,
  "nbformat_minor": 0,
  "metadata": {
    "kernelspec": {
      "display_name": "Python 3",
      "language": "python",
      "name": "python3"
    },
    "language_info": {
      "codemirror_mode": {
        "name": "ipython",
        "version": 3
      },
      "file_extension": ".py",
      "mimetype": "text/x-python",
      "name": "python",
      "nbconvert_exporter": "python",
      "pygments_lexer": "ipython3",
      "version": "3.6.9"
    },
    "colab": {
      "name": "Copy of gcn-lstm-time-series.ipynb",
      "provenance": []
    }
  },
  "cells": [
    {
      "cell_type": "markdown",
      "metadata": {
        "id": "KFQT3r-cz_p6"
      },
      "source": [
        "# Forecasting using spatio-temporal data with combined Graph Convolution + LSTM model"
      ]
    },
    {
      "cell_type": "markdown",
      "metadata": {
        "nbsphinx": "hidden",
        "tags": [
          "CloudRunner"
        ],
        "id": "rR7FxLr8z_p8"
      },
      "source": [
        "<table><tr><td>Run the latest release of this notebook:</td><td><a href=\"https://mybinder.org/v2/gh/stellargraph/stellargraph/master?urlpath=lab/tree/demos/time-series/gcn-lstm-time-series.ipynb\" alt=\"Open In Binder\" target=\"_parent\"><img src=\"https://mybinder.org/badge_logo.svg\"/></a></td><td><a href=\"https://colab.research.google.com/github/stellargraph/stellargraph/blob/master/demos/time-series/gcn-lstm-time-series.ipynb\" alt=\"Open In Colab\" target=\"_parent\"><img src=\"https://colab.research.google.com/assets/colab-badge.svg\"/></a></td></tr></table>"
      ]
    },
    {
      "cell_type": "markdown",
      "metadata": {
        "id": "DHr3pWJyz_p9"
      },
      "source": [
        "The dynamics of many real-world phenomena are spatio-temporal in nature. Traffic forecasting is a quintessential example of spatio-temporal problems for which we present here a deep learning framework that models speed prediction using spatio-temporal data. The task is challenging due to two main inter-linked factors: (1) the complex spatial dependency on road networks, and (2) non-linear temporal dynamics with changing road conditions.\n",
        "\n",
        "To address these challenges, here we  explore a neural network architecture that learns from both the spatial road network data and time-series of historical speed changes to forecast speeds on road segments at a future time. In the following we demo how to forecast speeds on road segments through a `graph convolution` and `LSTM` hybrid model.  The spatial dependency of the road networks are learnt through multiple graph convolution layers  stacked over multiple LSTM,  sequence to sequence model, layers that leverage the historical speeds on top of the network structure to predicts speeds in the future for each entity. \n",
        "\n",
        "The architecture of the GCN-LSTM model is inspired by the paper: [T-GCN: A Temporal Graph Convolutional Network for Traffic Prediction](https://ieeexplore.ieee.org/document/8809901).\n",
        "\n",
        "The authors have made available the implementation of their model in their GitHub [repository](https://github.com/lehaifeng/T-GCN).\n",
        "There has been a few differences in the architecture proposed in the paper and the implementation of the graph convolution component, these issues have been documented [here](https://github.com/lehaifeng/T-GCN/issues/18) and [here](https://github.com/lehaifeng/T-GCN/issues/14). The `GCN_LSTM` model in `StellarGraph`  emulates the model as explained in the paper while giving additional flexibility of adding any number of `graph convolution` and `LSTM` layers. \n",
        "\n",
        "Concretely, the architecture of `GCN_LSTM` is as follows:\n",
        "\n",
        "1. User defined number of  graph convolutional layers (Reference: [Kipf & Welling (ICLR 2017)](http://arxiv.org/abs/1609.02907)).\n",
        "2. User defined number of  LSTM layers. The [TGCN](https://ieeexplore.ieee.org/document/8809901) uses GRU instead of LSTM. In practice there are not any remarkable differences between the two types of layers. We use LSTM as they are more frequently used.\n",
        "3. A Dropout and a Dense layer as they experimentally showed improvement in performance and managing over-fitting.\n",
        "\n",
        "## References: \n",
        "\n",
        "* [T-GCN: A Temporal Graph Convolutional Network for Traffic Prediction](https://ieeexplore.ieee.org/document/8809901)\n",
        "* [https://github.com/lehaifeng/T-GCN](https://github.com/lehaifeng/T-GCN)\n",
        "* [Semi-Supervised Classification with Graph Convolutional Networks](http://arxiv.org/abs/1609.02907)\n",
        "\n",
        "**Note: this method is applicable for uni-variate timeseries forecasting.**"
      ]
    },
    {
      "cell_type": "code",
      "metadata": {
        "nbsphinx": "hidden",
        "tags": [
          "CloudRunner"
        ],
        "id": "6Rady4KBz_p-",
        "outputId": "681994dd-e72a-48ee-b75d-a5965c115a44",
        "colab": {
          "base_uri": "https://localhost:8080/",
          "height": 83
        }
      },
      "source": [
        "# install StellarGraph if running on Google Colab\n",
        "import sys\n",
        "if 'google.colab' in sys.modules:\n",
        "  %pip install -q stellargraph[demos]==1.2.1"
      ],
      "execution_count": null,
      "outputs": [
        {
          "output_type": "stream",
          "text": [
            "\u001b[K     |████████████████████████████████| 440kB 2.7MB/s \n",
            "\u001b[K     |████████████████████████████████| 235kB 12.0MB/s \n",
            "\u001b[K     |████████████████████████████████| 51kB 4.7MB/s \n",
            "\u001b[?25h  Building wheel for mplleaflet (setup.py) ... \u001b[?25l\u001b[?25hdone\n"
          ],
          "name": "stdout"
        }
      ]
    },
    {
      "cell_type": "code",
      "metadata": {
        "nbsphinx": "hidden",
        "tags": [
          "VersionCheck"
        ],
        "id": "TbJqyiQ8z_qE"
      },
      "source": [
        "# verify that we're using the correct version of StellarGraph for this notebook\n",
        "import stellargraph as sg\n",
        "\n",
        "try:\n",
        "    sg.utils.validate_notebook_version(\"1.2.1\")\n",
        "except AttributeError:\n",
        "    raise ValueError(\n",
        "        f\"This notebook requires StellarGraph version 1.2.1, but a different version {sg.__version__} is installed.  Please see <https://github.com/stellargraph/stellargraph/issues/1172>.\"\n",
        "    ) from None"
      ],
      "execution_count": null,
      "outputs": []
    },
    {
      "cell_type": "code",
      "metadata": {
        "id": "YYFr08F7z_qI"
      },
      "source": [
        "import os\n",
        "import sys\n",
        "import urllib.request\n",
        "\n",
        "import numpy as np\n",
        "import matplotlib.pyplot as plt\n",
        "import matplotlib.lines as mlines\n",
        "\n",
        "import tensorflow as tf\n",
        "from tensorflow import keras\n",
        "from tensorflow.keras import Sequential, Model\n",
        "from tensorflow.keras.layers import LSTM, Dense, Dropout, Input"
      ],
      "execution_count": null,
      "outputs": []
    },
    {
      "cell_type": "markdown",
      "metadata": {
        "id": "MYgeb50-z_qP"
      },
      "source": [
        "## Data\n",
        "\n",
        "We apply the GCN-LSTM model to the **Los-loop** data. This traffic dataset\n",
        "contains traffic information collected from loop detectors in the highway of Los Angeles County (Jagadish\n",
        "et al., 2014).  There are several processed versions of this dataset used by the research community working in Traffic forecasting space. \n",
        "\n",
        "This demo is based on the preprocessed version of the dataset used by the TGCN paper. It can be directly accessed from there [github repo](https://github.com/lehaifeng/T-GCN/tree/master/data). \n",
        "\n",
        "This dataset  contains traffic speeds from Mar.1 to Mar.7, 2012 of 207 sensors, recorded every 5 minutes. \n",
        "\n",
        "In order to use the model, we need:\n",
        "\n",
        "* A N by N adjacency matrix, which describes the distance relationship between the N sensors,\n",
        "* A N by T feature matrix, which describes the (f_1, .., f_T) speed records over T timesteps for the N sensors.\n",
        "\n",
        "A couple of other references for the same data albeit different time length are as follows: \n",
        "\n",
        "* [DIFFUSION CONVOLUTIONAL RECURRENT NEURAL NETWORK: DATA-DRIVEN TRAFFIC FORECASTING](https://github.com/liyaguang/DCRNN/tree/master/data): This dataset consists of 207 sensors and collect 4 months of data ranging from Mar 1st 2012 to Jun 30th 2012 for the experiment. It has some missing values.\n",
        "* [ST-MetaNet: Urban Traffic Prediction from Spatio-Temporal Data Using Deep Meta Learning](https://github.com/panzheyi/ST-MetaNet/tree/master/traffic-prediction). This work uses the DCRNN preprocessed data."
      ]
    },
    {
      "cell_type": "markdown",
      "metadata": {
        "id": "M51O7HZgz_qQ"
      },
      "source": [
        "## Loading and preprocessing the data"
      ]
    },
    {
      "cell_type": "code",
      "metadata": {
        "id": "ls-LY6w5z_qR"
      },
      "source": [
        "import stellargraph as sg"
      ],
      "execution_count": null,
      "outputs": []
    },
    {
      "cell_type": "markdown",
      "metadata": {
        "id": "hHFoc-czz_qV"
      },
      "source": [
        "This demo is based on the preprocessed version of the dataset used by the TGCN paper."
      ]
    },
    {
      "cell_type": "code",
      "metadata": {
        "id": "FAivQODzz_qW",
        "outputId": "38db7833-9bc4-419e-91c6-00b8abfe708b",
        "colab": {
          "base_uri": "https://localhost:8080/",
          "height": 70
        }
      },
      "source": [
        "dataset = sg.datasets.METR_LA()"
      ],
      "execution_count": null,
      "outputs": [
        {
          "output_type": "stream",
          "text": [
            "/usr/local/lib/python3.6/dist-packages/ipykernel_launcher.py:1: ExperimentalWarning: METR_LA is experimental: tests and documentation missing (see: https://github.com/stellargraph/stellargraph/issues/1303). It may be difficult to use and may have major changes at any time.\n",
            "  \"\"\"Entry point for launching an IPython kernel.\n"
          ],
          "name": "stderr"
        }
      ]
    },
    {
      "cell_type": "markdown",
      "metadata": {
        "tags": [
          "DataLoadingLinks"
        ],
        "id": "tZMMjTDnz_qa"
      },
      "source": [
        "(See [the \"Loading from Pandas\" demo](../basics/loading-pandas.ipynb) for details on how data can be loaded.)"
      ]
    },
    {
      "cell_type": "code",
      "metadata": {
        "tags": [
          "DataLoading"
        ],
        "id": "hIM79-oUz_qb",
        "outputId": "40855561-0423-4c92-a02b-7357ca2645c6",
        "colab": {
          "base_uri": "https://localhost:8080/",
          "height": 50
        }
      },
      "source": [
        "speed_data, sensor_dist_adj = dataset.load()\n",
        "num_nodes, time_len = speed_data.shape\n",
        "print(\"No. of sensors:\", num_nodes, \"\\nNo of timesteps:\", time_len)"
      ],
      "execution_count": null,
      "outputs": [
        {
          "output_type": "stream",
          "text": [
            "No. of sensors: 207 \n",
            "No of timesteps: 2016\n"
          ],
          "name": "stdout"
        }
      ]
    },
    {
      "cell_type": "markdown",
      "metadata": {
        "id": "A5FMfAfz1pmc"
      },
      "source": [
        "\n",
        "\n",
        "```\n",
        "Data type of adjacency matrix...describing edge values between nodes. In this dataset, these should correspond to physical distances between sensors.\n",
        "```\n",
        "\n"
      ]
    },
    {
      "cell_type": "code",
      "metadata": {
        "id": "kLDQzYKA0mV8",
        "outputId": "85387b52-cce9-40a0-d900-bf88f3663eb0",
        "colab": {
          "base_uri": "https://localhost:8080/",
          "height": 66
        }
      },
      "source": [
        "print(\"Data type of adjacency matrix...describing edge values between nodes. In this dataset, these should correspond to physical distances between sensors.\")\n",
        "print(type(sensor_dist_adj))\n",
        "print(sensor_dist_adj.shape)"
      ],
      "execution_count": null,
      "outputs": [
        {
          "output_type": "stream",
          "text": [
            "Data type of adjacency matrix...describing edge values between nodes. In this dataset, these should correspond to physical distances between sensors.\n",
            "<class 'numpy.matrix'>\n",
            "(207, 207)\n"
          ],
          "name": "stdout"
        }
      ]
    },
    {
      "cell_type": "markdown",
      "metadata": {
        "id": "WRT-dsgBz_qh"
      },
      "source": [
        "**Let's look at a sample of speed data.**"
      ]
    },
    {
      "cell_type": "code",
      "metadata": {
        "id": "ggBsjOaaz_qi",
        "outputId": "72dd2744-95be-428e-e762-af8cf401ca9b",
        "colab": {
          "base_uri": "https://localhost:8080/",
          "height": 246
        }
      },
      "source": [
        "speed_data.head()"
      ],
      "execution_count": null,
      "outputs": [
        {
          "output_type": "execute_result",
          "data": {
            "text/html": [
              "<div>\n",
              "<style scoped>\n",
              "    .dataframe tbody tr th:only-of-type {\n",
              "        vertical-align: middle;\n",
              "    }\n",
              "\n",
              "    .dataframe tbody tr th {\n",
              "        vertical-align: top;\n",
              "    }\n",
              "\n",
              "    .dataframe thead th {\n",
              "        text-align: right;\n",
              "    }\n",
              "</style>\n",
              "<table border=\"1\" class=\"dataframe\">\n",
              "  <thead>\n",
              "    <tr style=\"text-align: right;\">\n",
              "      <th></th>\n",
              "      <th>0</th>\n",
              "      <th>1</th>\n",
              "      <th>2</th>\n",
              "      <th>3</th>\n",
              "      <th>4</th>\n",
              "      <th>5</th>\n",
              "      <th>6</th>\n",
              "      <th>7</th>\n",
              "      <th>8</th>\n",
              "      <th>9</th>\n",
              "      <th>10</th>\n",
              "      <th>11</th>\n",
              "      <th>12</th>\n",
              "      <th>13</th>\n",
              "      <th>14</th>\n",
              "      <th>15</th>\n",
              "      <th>16</th>\n",
              "      <th>17</th>\n",
              "      <th>18</th>\n",
              "      <th>19</th>\n",
              "      <th>20</th>\n",
              "      <th>21</th>\n",
              "      <th>22</th>\n",
              "      <th>23</th>\n",
              "      <th>24</th>\n",
              "      <th>25</th>\n",
              "      <th>26</th>\n",
              "      <th>27</th>\n",
              "      <th>28</th>\n",
              "      <th>29</th>\n",
              "      <th>30</th>\n",
              "      <th>31</th>\n",
              "      <th>32</th>\n",
              "      <th>33</th>\n",
              "      <th>34</th>\n",
              "      <th>35</th>\n",
              "      <th>36</th>\n",
              "      <th>37</th>\n",
              "      <th>38</th>\n",
              "      <th>39</th>\n",
              "      <th>...</th>\n",
              "      <th>1976</th>\n",
              "      <th>1977</th>\n",
              "      <th>1978</th>\n",
              "      <th>1979</th>\n",
              "      <th>1980</th>\n",
              "      <th>1981</th>\n",
              "      <th>1982</th>\n",
              "      <th>1983</th>\n",
              "      <th>1984</th>\n",
              "      <th>1985</th>\n",
              "      <th>1986</th>\n",
              "      <th>1987</th>\n",
              "      <th>1988</th>\n",
              "      <th>1989</th>\n",
              "      <th>1990</th>\n",
              "      <th>1991</th>\n",
              "      <th>1992</th>\n",
              "      <th>1993</th>\n",
              "      <th>1994</th>\n",
              "      <th>1995</th>\n",
              "      <th>1996</th>\n",
              "      <th>1997</th>\n",
              "      <th>1998</th>\n",
              "      <th>1999</th>\n",
              "      <th>2000</th>\n",
              "      <th>2001</th>\n",
              "      <th>2002</th>\n",
              "      <th>2003</th>\n",
              "      <th>2004</th>\n",
              "      <th>2005</th>\n",
              "      <th>2006</th>\n",
              "      <th>2007</th>\n",
              "      <th>2008</th>\n",
              "      <th>2009</th>\n",
              "      <th>2010</th>\n",
              "      <th>2011</th>\n",
              "      <th>2012</th>\n",
              "      <th>2013</th>\n",
              "      <th>2014</th>\n",
              "      <th>2015</th>\n",
              "    </tr>\n",
              "  </thead>\n",
              "  <tbody>\n",
              "    <tr>\n",
              "      <th>773869</th>\n",
              "      <td>64.375</td>\n",
              "      <td>62.666667</td>\n",
              "      <td>64.00</td>\n",
              "      <td>61.777778</td>\n",
              "      <td>59.555556</td>\n",
              "      <td>57.333333</td>\n",
              "      <td>66.500</td>\n",
              "      <td>63.625</td>\n",
              "      <td>68.750</td>\n",
              "      <td>63.500</td>\n",
              "      <td>65.222222</td>\n",
              "      <td>62.250</td>\n",
              "      <td>61.125</td>\n",
              "      <td>58.555556</td>\n",
              "      <td>63.625</td>\n",
              "      <td>66.777778</td>\n",
              "      <td>55.875</td>\n",
              "      <td>64.333333</td>\n",
              "      <td>63.888889</td>\n",
              "      <td>63.125</td>\n",
              "      <td>62.125</td>\n",
              "      <td>61.500</td>\n",
              "      <td>63.222222</td>\n",
              "      <td>65.000</td>\n",
              "      <td>53.555556</td>\n",
              "      <td>62.125</td>\n",
              "      <td>61.555556</td>\n",
              "      <td>59.875</td>\n",
              "      <td>68.000000</td>\n",
              "      <td>65.375</td>\n",
              "      <td>64.000</td>\n",
              "      <td>63.222222</td>\n",
              "      <td>58.333333</td>\n",
              "      <td>56.714286</td>\n",
              "      <td>61.777778</td>\n",
              "      <td>66.500</td>\n",
              "      <td>59.750</td>\n",
              "      <td>63.250</td>\n",
              "      <td>60.000000</td>\n",
              "      <td>61.125</td>\n",
              "      <td>...</td>\n",
              "      <td>66.875</td>\n",
              "      <td>67.125</td>\n",
              "      <td>67.444444</td>\n",
              "      <td>66.875</td>\n",
              "      <td>66.666667</td>\n",
              "      <td>68.625</td>\n",
              "      <td>67.750</td>\n",
              "      <td>66.777778</td>\n",
              "      <td>65.111111</td>\n",
              "      <td>68.125</td>\n",
              "      <td>67.444444</td>\n",
              "      <td>69.125</td>\n",
              "      <td>68.111111</td>\n",
              "      <td>67.666667</td>\n",
              "      <td>67.875</td>\n",
              "      <td>67.875</td>\n",
              "      <td>67.333333</td>\n",
              "      <td>65.375</td>\n",
              "      <td>67.444444</td>\n",
              "      <td>69.000</td>\n",
              "      <td>68.666667</td>\n",
              "      <td>66.875</td>\n",
              "      <td>67.222222</td>\n",
              "      <td>64.125</td>\n",
              "      <td>64.875</td>\n",
              "      <td>67.750</td>\n",
              "      <td>64.875</td>\n",
              "      <td>63.666667</td>\n",
              "      <td>66.000000</td>\n",
              "      <td>65.222222</td>\n",
              "      <td>64.625</td>\n",
              "      <td>65.444444</td>\n",
              "      <td>63.125</td>\n",
              "      <td>62.875</td>\n",
              "      <td>68.375</td>\n",
              "      <td>65.555556</td>\n",
              "      <td>66.625</td>\n",
              "      <td>66.375</td>\n",
              "      <td>64.666667</td>\n",
              "      <td>66.000</td>\n",
              "    </tr>\n",
              "    <tr>\n",
              "      <th>767541</th>\n",
              "      <td>67.625</td>\n",
              "      <td>68.555556</td>\n",
              "      <td>63.75</td>\n",
              "      <td>65.500000</td>\n",
              "      <td>67.250000</td>\n",
              "      <td>69.000000</td>\n",
              "      <td>63.875</td>\n",
              "      <td>67.250</td>\n",
              "      <td>65.250</td>\n",
              "      <td>61.500</td>\n",
              "      <td>63.666667</td>\n",
              "      <td>67.750</td>\n",
              "      <td>67.000</td>\n",
              "      <td>62.666667</td>\n",
              "      <td>67.000</td>\n",
              "      <td>65.555556</td>\n",
              "      <td>65.500</td>\n",
              "      <td>66.000000</td>\n",
              "      <td>61.555556</td>\n",
              "      <td>63.875</td>\n",
              "      <td>61.250</td>\n",
              "      <td>62.000</td>\n",
              "      <td>64.111111</td>\n",
              "      <td>63.000</td>\n",
              "      <td>65.777778</td>\n",
              "      <td>67.750</td>\n",
              "      <td>65.222222</td>\n",
              "      <td>64.125</td>\n",
              "      <td>65.888889</td>\n",
              "      <td>63.875</td>\n",
              "      <td>65.250</td>\n",
              "      <td>62.666667</td>\n",
              "      <td>63.444444</td>\n",
              "      <td>65.285714</td>\n",
              "      <td>67.111111</td>\n",
              "      <td>64.875</td>\n",
              "      <td>69.000</td>\n",
              "      <td>63.375</td>\n",
              "      <td>65.888889</td>\n",
              "      <td>68.000</td>\n",
              "      <td>...</td>\n",
              "      <td>66.250</td>\n",
              "      <td>67.375</td>\n",
              "      <td>67.000000</td>\n",
              "      <td>66.000</td>\n",
              "      <td>63.777778</td>\n",
              "      <td>65.375</td>\n",
              "      <td>63.750</td>\n",
              "      <td>65.777778</td>\n",
              "      <td>58.666667</td>\n",
              "      <td>65.000</td>\n",
              "      <td>64.777778</td>\n",
              "      <td>57.250</td>\n",
              "      <td>64.777778</td>\n",
              "      <td>66.555556</td>\n",
              "      <td>66.875</td>\n",
              "      <td>67.500</td>\n",
              "      <td>65.777778</td>\n",
              "      <td>66.500</td>\n",
              "      <td>65.555556</td>\n",
              "      <td>66.125</td>\n",
              "      <td>67.444444</td>\n",
              "      <td>66.500</td>\n",
              "      <td>66.888889</td>\n",
              "      <td>67.125</td>\n",
              "      <td>66.500</td>\n",
              "      <td>66.375</td>\n",
              "      <td>65.625</td>\n",
              "      <td>66.111111</td>\n",
              "      <td>67.714286</td>\n",
              "      <td>68.666667</td>\n",
              "      <td>67.125</td>\n",
              "      <td>66.555556</td>\n",
              "      <td>68.125</td>\n",
              "      <td>67.125</td>\n",
              "      <td>67.000</td>\n",
              "      <td>65.111111</td>\n",
              "      <td>66.625</td>\n",
              "      <td>66.375</td>\n",
              "      <td>66.555556</td>\n",
              "      <td>67.125</td>\n",
              "    </tr>\n",
              "    <tr>\n",
              "      <th>767542</th>\n",
              "      <td>67.125</td>\n",
              "      <td>65.444444</td>\n",
              "      <td>60.00</td>\n",
              "      <td>62.555556</td>\n",
              "      <td>65.111111</td>\n",
              "      <td>67.666667</td>\n",
              "      <td>67.875</td>\n",
              "      <td>63.250</td>\n",
              "      <td>63.500</td>\n",
              "      <td>62.500</td>\n",
              "      <td>65.111111</td>\n",
              "      <td>66.875</td>\n",
              "      <td>58.500</td>\n",
              "      <td>65.777778</td>\n",
              "      <td>55.000</td>\n",
              "      <td>68.111111</td>\n",
              "      <td>60.750</td>\n",
              "      <td>68.222222</td>\n",
              "      <td>68.111111</td>\n",
              "      <td>65.375</td>\n",
              "      <td>60.750</td>\n",
              "      <td>62.125</td>\n",
              "      <td>64.333333</td>\n",
              "      <td>69.000</td>\n",
              "      <td>64.333333</td>\n",
              "      <td>63.125</td>\n",
              "      <td>66.111111</td>\n",
              "      <td>67.250</td>\n",
              "      <td>64.000000</td>\n",
              "      <td>64.500</td>\n",
              "      <td>60.750</td>\n",
              "      <td>59.666667</td>\n",
              "      <td>66.000000</td>\n",
              "      <td>62.428571</td>\n",
              "      <td>65.222222</td>\n",
              "      <td>66.375</td>\n",
              "      <td>67.875</td>\n",
              "      <td>63.625</td>\n",
              "      <td>64.666667</td>\n",
              "      <td>60.125</td>\n",
              "      <td>...</td>\n",
              "      <td>67.750</td>\n",
              "      <td>64.375</td>\n",
              "      <td>68.666667</td>\n",
              "      <td>68.250</td>\n",
              "      <td>68.555556</td>\n",
              "      <td>69.250</td>\n",
              "      <td>67.875</td>\n",
              "      <td>67.444444</td>\n",
              "      <td>60.666667</td>\n",
              "      <td>66.500</td>\n",
              "      <td>67.111111</td>\n",
              "      <td>68.000</td>\n",
              "      <td>67.000000</td>\n",
              "      <td>67.555556</td>\n",
              "      <td>68.125</td>\n",
              "      <td>66.625</td>\n",
              "      <td>67.777778</td>\n",
              "      <td>67.500</td>\n",
              "      <td>68.000000</td>\n",
              "      <td>69.250</td>\n",
              "      <td>67.555556</td>\n",
              "      <td>66.500</td>\n",
              "      <td>67.111111</td>\n",
              "      <td>67.875</td>\n",
              "      <td>67.875</td>\n",
              "      <td>67.750</td>\n",
              "      <td>66.625</td>\n",
              "      <td>67.555556</td>\n",
              "      <td>67.000000</td>\n",
              "      <td>67.000000</td>\n",
              "      <td>66.500</td>\n",
              "      <td>66.222222</td>\n",
              "      <td>67.625</td>\n",
              "      <td>68.625</td>\n",
              "      <td>68.500</td>\n",
              "      <td>64.111111</td>\n",
              "      <td>65.750</td>\n",
              "      <td>63.750</td>\n",
              "      <td>66.888889</td>\n",
              "      <td>66.375</td>\n",
              "    </tr>\n",
              "    <tr>\n",
              "      <th>717447</th>\n",
              "      <td>61.500</td>\n",
              "      <td>62.444444</td>\n",
              "      <td>59.00</td>\n",
              "      <td>59.888889</td>\n",
              "      <td>60.777778</td>\n",
              "      <td>61.666667</td>\n",
              "      <td>62.375</td>\n",
              "      <td>60.500</td>\n",
              "      <td>63.000</td>\n",
              "      <td>58.125</td>\n",
              "      <td>61.111111</td>\n",
              "      <td>60.000</td>\n",
              "      <td>62.250</td>\n",
              "      <td>59.777778</td>\n",
              "      <td>59.125</td>\n",
              "      <td>59.888889</td>\n",
              "      <td>57.250</td>\n",
              "      <td>64.777778</td>\n",
              "      <td>57.666667</td>\n",
              "      <td>60.250</td>\n",
              "      <td>61.375</td>\n",
              "      <td>59.375</td>\n",
              "      <td>59.888889</td>\n",
              "      <td>58.875</td>\n",
              "      <td>60.444444</td>\n",
              "      <td>59.875</td>\n",
              "      <td>58.777778</td>\n",
              "      <td>63.375</td>\n",
              "      <td>56.333333</td>\n",
              "      <td>58.125</td>\n",
              "      <td>50.875</td>\n",
              "      <td>59.666667</td>\n",
              "      <td>58.333333</td>\n",
              "      <td>58.857143</td>\n",
              "      <td>59.000000</td>\n",
              "      <td>54.375</td>\n",
              "      <td>55.500</td>\n",
              "      <td>57.625</td>\n",
              "      <td>56.777778</td>\n",
              "      <td>52.000</td>\n",
              "      <td>...</td>\n",
              "      <td>58.625</td>\n",
              "      <td>55.000</td>\n",
              "      <td>55.555556</td>\n",
              "      <td>58.250</td>\n",
              "      <td>56.000000</td>\n",
              "      <td>58.750</td>\n",
              "      <td>58.625</td>\n",
              "      <td>56.666667</td>\n",
              "      <td>55.000000</td>\n",
              "      <td>57.500</td>\n",
              "      <td>56.888889</td>\n",
              "      <td>59.875</td>\n",
              "      <td>60.111111</td>\n",
              "      <td>52.333333</td>\n",
              "      <td>59.625</td>\n",
              "      <td>61.500</td>\n",
              "      <td>56.444444</td>\n",
              "      <td>56.500</td>\n",
              "      <td>56.333333</td>\n",
              "      <td>60.250</td>\n",
              "      <td>60.333333</td>\n",
              "      <td>54.625</td>\n",
              "      <td>59.222222</td>\n",
              "      <td>60.625</td>\n",
              "      <td>61.250</td>\n",
              "      <td>62.000</td>\n",
              "      <td>62.500</td>\n",
              "      <td>61.777778</td>\n",
              "      <td>59.428571</td>\n",
              "      <td>63.666667</td>\n",
              "      <td>55.625</td>\n",
              "      <td>61.000000</td>\n",
              "      <td>58.750</td>\n",
              "      <td>60.625</td>\n",
              "      <td>61.375</td>\n",
              "      <td>61.111111</td>\n",
              "      <td>64.750</td>\n",
              "      <td>63.750</td>\n",
              "      <td>59.888889</td>\n",
              "      <td>59.250</td>\n",
              "    </tr>\n",
              "    <tr>\n",
              "      <th>717446</th>\n",
              "      <td>66.875</td>\n",
              "      <td>64.444444</td>\n",
              "      <td>66.50</td>\n",
              "      <td>66.777778</td>\n",
              "      <td>67.055556</td>\n",
              "      <td>67.333333</td>\n",
              "      <td>64.375</td>\n",
              "      <td>57.375</td>\n",
              "      <td>65.125</td>\n",
              "      <td>66.625</td>\n",
              "      <td>66.555556</td>\n",
              "      <td>64.750</td>\n",
              "      <td>66.375</td>\n",
              "      <td>66.888889</td>\n",
              "      <td>67.625</td>\n",
              "      <td>61.333333</td>\n",
              "      <td>67.875</td>\n",
              "      <td>68.333333</td>\n",
              "      <td>65.000000</td>\n",
              "      <td>62.500</td>\n",
              "      <td>59.125</td>\n",
              "      <td>62.625</td>\n",
              "      <td>67.000000</td>\n",
              "      <td>67.875</td>\n",
              "      <td>66.666667</td>\n",
              "      <td>65.125</td>\n",
              "      <td>64.888889</td>\n",
              "      <td>68.250</td>\n",
              "      <td>67.000000</td>\n",
              "      <td>66.500</td>\n",
              "      <td>63.375</td>\n",
              "      <td>65.444444</td>\n",
              "      <td>63.222222</td>\n",
              "      <td>65.428571</td>\n",
              "      <td>62.777778</td>\n",
              "      <td>56.250</td>\n",
              "      <td>66.875</td>\n",
              "      <td>61.625</td>\n",
              "      <td>65.444444</td>\n",
              "      <td>61.375</td>\n",
              "      <td>...</td>\n",
              "      <td>64.750</td>\n",
              "      <td>64.375</td>\n",
              "      <td>63.444444</td>\n",
              "      <td>66.125</td>\n",
              "      <td>62.888889</td>\n",
              "      <td>65.125</td>\n",
              "      <td>61.875</td>\n",
              "      <td>65.666667</td>\n",
              "      <td>59.111111</td>\n",
              "      <td>63.750</td>\n",
              "      <td>64.111111</td>\n",
              "      <td>63.500</td>\n",
              "      <td>63.666667</td>\n",
              "      <td>57.555556</td>\n",
              "      <td>65.750</td>\n",
              "      <td>62.750</td>\n",
              "      <td>65.333333</td>\n",
              "      <td>63.125</td>\n",
              "      <td>64.555556</td>\n",
              "      <td>66.250</td>\n",
              "      <td>65.444444</td>\n",
              "      <td>67.125</td>\n",
              "      <td>59.333333</td>\n",
              "      <td>59.750</td>\n",
              "      <td>66.500</td>\n",
              "      <td>66.500</td>\n",
              "      <td>66.875</td>\n",
              "      <td>66.555556</td>\n",
              "      <td>67.142857</td>\n",
              "      <td>66.222222</td>\n",
              "      <td>65.625</td>\n",
              "      <td>58.000000</td>\n",
              "      <td>66.625</td>\n",
              "      <td>67.125</td>\n",
              "      <td>64.500</td>\n",
              "      <td>66.000000</td>\n",
              "      <td>67.375</td>\n",
              "      <td>67.625</td>\n",
              "      <td>65.111111</td>\n",
              "      <td>64.250</td>\n",
              "    </tr>\n",
              "  </tbody>\n",
              "</table>\n",
              "<p>5 rows × 2016 columns</p>\n",
              "</div>"
            ],
            "text/plain": [
              "          0          1      2          3     ...    2012    2013       2014    2015\n",
              "773869  64.375  62.666667  64.00  61.777778  ...  66.625  66.375  64.666667  66.000\n",
              "767541  67.625  68.555556  63.75  65.500000  ...  66.625  66.375  66.555556  67.125\n",
              "767542  67.125  65.444444  60.00  62.555556  ...  65.750  63.750  66.888889  66.375\n",
              "717447  61.500  62.444444  59.00  59.888889  ...  64.750  63.750  59.888889  59.250\n",
              "717446  66.875  64.444444  66.50  66.777778  ...  67.375  67.625  65.111111  64.250\n",
              "\n",
              "[5 rows x 2016 columns]"
            ]
          },
          "metadata": {
            "tags": []
          },
          "execution_count": 19
        }
      ]
    },
    {
      "cell_type": "markdown",
      "metadata": {
        "id": "Q9IHMqAaz_qm"
      },
      "source": [
        "As you can see above, there are 2016 observations (timesteps) of speed records over 207 sensors. Speeds are recorded every 5 minutes.  This means that, for a single hour, you will have 12 observations. Similarly, a single day will contain 288 (12x24) observations. Overall, the data consists of speeds recorded every 5 minutes over 207  for 7 days (12X24X7).\n",
        "\n",
        "### Forecasting with spatio-temporal data as a supervised learning problem \n",
        "\n",
        "Time series forecasting problem can be cast as a supervised learning problem. We can do this by using previous timesteps as input features and use the next timestep as the output to predict. Then, the spatio-temporal forecasting question can be modeled as predicting the feature value in the future, given the historical values of the feature for that entity  as well as the feature values of the entities \"connected\" to the entity.  For example, the speed prediction problem, the historical speeds of the sensors are the timeseries and the distance between the sensors is the indicator for connectivity or closeness of sensors."
      ]
    },
    {
      "cell_type": "markdown",
      "metadata": {
        "id": "39yV7A9Dz_qn"
      },
      "source": [
        "### Train/test split\n",
        "\n",
        "Just like for modeling any standard supervised learning problem, we first split the data into mutually exclusive train and test sets. However, unlike, a standard supervised learning problem,  in timeseries analysis, the data is in some chronological time respecting order and the train/test happens along the timeline. Lets say, we use the first `T_t` observations for training and the remaining `T - T_t` of the  total `T` observations for testing.  \n",
        "\n",
        "In the following we use first 80% observations for training and the rest for testing."
      ]
    },
    {
      "cell_type": "code",
      "metadata": {
        "id": "HGMDBGjiz_qn"
      },
      "source": [
        "def train_test_split(data, train_portion):\n",
        "    time_len = data.shape[1]\n",
        "    train_size = int(time_len * train_portion)\n",
        "    train_data = np.array(data.iloc[:, :train_size])\n",
        "    test_data = np.array(data.iloc[:, train_size:])\n",
        "    return train_data, test_data"
      ],
      "execution_count": null,
      "outputs": []
    },
    {
      "cell_type": "code",
      "metadata": {
        "id": "chuXujJtz_qr"
      },
      "source": [
        "train_rate = 0.8"
      ],
      "execution_count": null,
      "outputs": []
    },
    {
      "cell_type": "code",
      "metadata": {
        "id": "eW_8EwwQz_qv",
        "outputId": "175352bf-9dac-4111-a48a-eaaee15c0bc6",
        "colab": {
          "base_uri": "https://localhost:8080/",
          "height": 50
        }
      },
      "source": [
        "train_data, test_data = train_test_split(speed_data, train_rate)\n",
        "print(\"Train data: \", train_data.shape)\n",
        "print(\"Test data: \", test_data.shape)"
      ],
      "execution_count": null,
      "outputs": [
        {
          "output_type": "stream",
          "text": [
            "Train data:  (207, 1612)\n",
            "Test data:  (207, 404)\n"
          ],
          "name": "stdout"
        }
      ]
    },
    {
      "cell_type": "markdown",
      "metadata": {
        "id": "mhuItEf1z_qz"
      },
      "source": [
        "### Scaling\n",
        "It is generally a good practice to  rescale the data from the original range so that all values are within the range of 0 and 1. Normalization can be useful and even necessary when your time series data has input values with differing scales.  In the following we normalize the speed timeseries by the maximum and minimum values of speeds in the train data. \n",
        "\n",
        "Note: `MinMaxScaler` in `scikit learn` library is typically used for transforming data. However, in timeseries data since the features are distinct timesteps, so using the historical range of values in a particular timestep as the range of values in later timesteps, may not be correct.  Hence, we use the maximum and the minimum of the entire range of values in the timeseries to scale and transform the train and test sets respectively."
      ]
    },
    {
      "cell_type": "code",
      "metadata": {
        "id": "aiuB1NlCz_q2"
      },
      "source": [
        "def scale_data(train_data, test_data):\n",
        "    max_speed = train_data.max()\n",
        "    min_speed = train_data.min()\n",
        "    train_scaled = (train_data - min_speed) / (max_speed - min_speed)\n",
        "    test_scaled = (test_data - min_speed) / (max_speed - min_speed)\n",
        "    return train_scaled, test_scaled"
      ],
      "execution_count": null,
      "outputs": []
    },
    {
      "cell_type": "code",
      "metadata": {
        "id": "7HkeL7Cyz_q5"
      },
      "source": [
        "train_scaled, test_scaled = scale_data(train_data, test_data)"
      ],
      "execution_count": null,
      "outputs": []
    },
    {
      "cell_type": "markdown",
      "metadata": {
        "id": "4PW6nowhz_q_"
      },
      "source": [
        "### Sequence data preparation for LSTM\n",
        "\n",
        "We first need to prepare the data to be fed into an LSTM. \n",
        "The LSTM model learns a function that maps a sequence of past observations as input to an output observation. As such, the sequence of observations must be transformed into multiple examples from which the LSTM can learn.\n",
        "\n",
        "To make it concrete in terms of the speed prediction problem, we choose to use 50 minutes of historical speed observations to predict the speed in future, lets say, 1 hour ahead. Hence, we would first  reshape the timeseries data into windows of 10 historical observations for each segment as the input and the speed 60 minutes later is the label we are interested in predicting. We use the sliding window approach to prepare the data. This is how it works:  \n",
        "\n",
        "* Starting from the beginning of the timeseries, we take the first 10 speed records as the 10 input features and the speed 12 timesteps head (60 minutes) as the speed we want to predict. \n",
        "* Shift the timeseries by one timestep and take the 10 observations from the current point as the input features and the speed one hour ahead as the output to predict. \n",
        "* Keep shifting by 1 timestep and picking the 10 timestep window from the current time as input feature and the speed one hour ahead of the 10th timestep as the output to predict, for the entire data.\n",
        "* The above steps are done for each sensor. \n",
        "\n",
        "The function below returns the above transformed timeseries data for the model to train on. The parameter `seq_len` is the size of the past window of information. The `pre_len` is how far in the future does the model need to learn to predict. \n",
        "\n",
        "For this demo: \n",
        "\n",
        "* Each training observation are 10 historical speeds (`seq_len`).\n",
        "* Each training prediction is the speed 60 minutes later (`pre_len`)."
      ]
    },
    {
      "cell_type": "code",
      "metadata": {
        "id": "3pfvwVyaz_q_"
      },
      "source": [
        "seq_len = 10\n",
        "pre_len = 12"
      ],
      "execution_count": null,
      "outputs": []
    },
    {
      "cell_type": "code",
      "metadata": {
        "id": "BrOq6aZaz_rD"
      },
      "source": [
        "def sequence_data_preparation(seq_len, pre_len, train_data, test_data):\n",
        "    trainX, trainY, testX, testY = [], [], [], []\n",
        "\n",
        "    #for each value in the range defined by the total # of columns (time-steps) in train_data (i.e. train_data.shape[1])\n",
        "    # MINUS\n",
        "    # the sum of sequence length (seq_len) AND prediction length (pre_len)\n",
        "    for i in range(train_data.shape[1] - int(seq_len + pre_len - 1)):\n",
        "        a = train_data[:, i : i + seq_len + pre_len] # a is all rows (stations) and just the columns (observations) from i through the column needed\n",
        "        trainX.append(a[:, :seq_len]) #takes the columns corresponding to the sequence used to build the model\n",
        "        trainY.append(a[:, -1]) #takes last column from a, corresponding to the prediction column\n",
        "\n",
        "    for i in range(test_data.shape[1] - int(seq_len + pre_len - 1)):\n",
        "        b = test_data[:, i : i + seq_len + pre_len]\n",
        "        testX.append(b[:, :seq_len])\n",
        "        testY.append(b[:, -1])\n",
        "\n",
        "    trainX = np.array(trainX)\n",
        "    trainY = np.array(trainY)\n",
        "    testX = np.array(testX)\n",
        "    testY = np.array(testY)\n",
        "\n",
        "    return trainX, trainY, testX, testY"
      ],
      "execution_count": null,
      "outputs": []
    },
    {
      "cell_type": "code",
      "metadata": {
        "id": "aD6ILUP3z_rF",
        "outputId": "f8f47d19-f573-4bb4-aeae-cea34c27aef2",
        "colab": {
          "base_uri": "https://localhost:8080/",
          "height": 83
        }
      },
      "source": [
        "trainX, trainY, testX, testY = sequence_data_preparation(\n",
        "    seq_len, pre_len, train_scaled, test_scaled\n",
        ")\n",
        "print(trainX.shape)\n",
        "print(trainY.shape)\n",
        "print(testX.shape)\n",
        "print(testY.shape)"
      ],
      "execution_count": null,
      "outputs": [
        {
          "output_type": "stream",
          "text": [
            "(1591, 207, 10)\n",
            "(1591, 207)\n",
            "(383, 207, 10)\n",
            "(383, 207)\n"
          ],
          "name": "stdout"
        }
      ]
    },
    {
      "cell_type": "markdown",
      "metadata": {
        "id": "8jtuepOgz_rJ"
      },
      "source": [
        "## StellarGraph Graph Convolution and LSTM model"
      ]
    },
    {
      "cell_type": "code",
      "metadata": {
        "id": "fyHxX9HLz_rK"
      },
      "source": [
        "from stellargraph.layer import GCN_LSTM"
      ],
      "execution_count": null,
      "outputs": []
    },
    {
      "cell_type": "code",
      "metadata": {
        "id": "C7ttGnyJz_rO",
        "outputId": "09debd3d-7e68-47bf-dc32-0e51de9155d0",
        "colab": {
          "base_uri": "https://localhost:8080/",
          "height": 70
        }
      },
      "source": [
        "gcn_lstm = GCN_LSTM(\n",
        "    seq_len=seq_len,\n",
        "    adj=sensor_dist_adj,\n",
        "    gc_layer_sizes=[16, 10],\n",
        "    gc_activations=[\"relu\", \"relu\"],\n",
        "    lstm_layer_sizes=[200, 200],\n",
        "    lstm_activations=[\"tanh\", \"tanh\"],\n",
        ")"
      ],
      "execution_count": null,
      "outputs": [
        {
          "output_type": "stream",
          "text": [
            "/usr/local/lib/python3.6/dist-packages/ipykernel_launcher.py:7: ExperimentalWarning: GCN_LSTM is experimental: Lack of unit tests and code refinement (see: https://github.com/stellargraph/stellargraph/issues/1132, https://github.com/stellargraph/stellargraph/issues/1526, https://github.com/stellargraph/stellargraph/issues/1564). It may be difficult to use and may have major changes at any time.\n",
            "  import sys\n"
          ],
          "name": "stderr"
        }
      ]
    },
    {
      "cell_type": "code",
      "metadata": {
        "id": "xERmheuEz_rR"
      },
      "source": [
        "x_input, x_output = gcn_lstm.in_out_tensors()"
      ],
      "execution_count": null,
      "outputs": []
    },
    {
      "cell_type": "code",
      "metadata": {
        "id": "Uw4B-n088FNH",
        "outputId": "d0404188-671d-435a-fc4e-de28316c209e",
        "colab": {
          "base_uri": "https://localhost:8080/",
          "height": 33
        }
      },
      "source": [
        "x_input"
      ],
      "execution_count": null,
      "outputs": [
        {
          "output_type": "execute_result",
          "data": {
            "text/plain": [
              "<tf.Tensor 'input_3:0' shape=(None, 207, 10) dtype=float32>"
            ]
          },
          "metadata": {
            "tags": []
          },
          "execution_count": 44
        }
      ]
    },
    {
      "cell_type": "code",
      "metadata": {
        "id": "HD5dDAHJ8YTK",
        "outputId": "71de3c07-6a0c-4173-960f-369f3e195868",
        "colab": {
          "base_uri": "https://localhost:8080/",
          "height": 33
        }
      },
      "source": [
        "x_output"
      ],
      "execution_count": null,
      "outputs": [
        {
          "output_type": "execute_result",
          "data": {
            "text/plain": [
              "<tf.Tensor 'dense/Sigmoid_1:0' shape=(None, 207) dtype=float32>"
            ]
          },
          "metadata": {
            "tags": []
          },
          "execution_count": 45
        }
      ]
    },
    {
      "cell_type": "code",
      "metadata": {
        "id": "jkEFBVDQz_rU"
      },
      "source": [
        "model = Model(inputs=x_input, outputs=x_output)"
      ],
      "execution_count": null,
      "outputs": []
    },
    {
      "cell_type": "code",
      "metadata": {
        "id": "GSiWkisBz_rX"
      },
      "source": [
        "model.compile(optimizer=\"adam\", loss=\"mae\", metrics=[\"mse\"])"
      ],
      "execution_count": null,
      "outputs": []
    },
    {
      "cell_type": "code",
      "metadata": {
        "id": "AUJdFhyZz_ra"
      },
      "source": [
        "history = model.fit(\n",
        "    trainX,\n",
        "    trainY,\n",
        "    epochs=100,\n",
        "    batch_size=60,\n",
        "    shuffle=True,\n",
        "    verbose=0,\n",
        "    validation_data=[testX, testY],\n",
        ")"
      ],
      "execution_count": null,
      "outputs": []
    },
    {
      "cell_type": "code",
      "metadata": {
        "id": "fkC_gukbz_re",
        "outputId": "1b83d152-e0a5-4d6d-f7c5-989abda8be34",
        "colab": {
          "base_uri": "https://localhost:8080/",
          "height": 550
        }
      },
      "source": [
        "model.summary()"
      ],
      "execution_count": null,
      "outputs": [
        {
          "output_type": "stream",
          "text": [
            "Model: \"functional_3\"\n",
            "_________________________________________________________________\n",
            "Layer (type)                 Output Shape              Param #   \n",
            "=================================================================\n",
            "input_3 (InputLayer)         [(None, 207, 10)]         0         \n",
            "_________________________________________________________________\n",
            "tf_op_layer_ExpandDims_1 (Te [(None, 207, 10, 1)]      0         \n",
            "_________________________________________________________________\n",
            "reshape_3 (Reshape)          (None, 207, 10)           0         \n",
            "_________________________________________________________________\n",
            "fixed_adjacency_graph_convol (None, 207, 16)           43216     \n",
            "_________________________________________________________________\n",
            "fixed_adjacency_graph_convol (None, 207, 10)           43216     \n",
            "_________________________________________________________________\n",
            "reshape_4 (Reshape)          (None, 207, 10, 1)        0         \n",
            "_________________________________________________________________\n",
            "permute_1 (Permute)          (None, 10, 207, 1)        0         \n",
            "_________________________________________________________________\n",
            "reshape_5 (Reshape)          (None, 10, 207)           0         \n",
            "_________________________________________________________________\n",
            "lstm (LSTM)                  (None, 10, 200)           326400    \n",
            "_________________________________________________________________\n",
            "lstm_1 (LSTM)                (None, 200)               320800    \n",
            "_________________________________________________________________\n",
            "dropout_1 (Dropout)          (None, 200)               0         \n",
            "_________________________________________________________________\n",
            "dense (Dense)                (None, 207)               41607     \n",
            "=================================================================\n",
            "Total params: 775,239\n",
            "Trainable params: 689,541\n",
            "Non-trainable params: 85,698\n",
            "_________________________________________________________________\n"
          ],
          "name": "stdout"
        }
      ]
    },
    {
      "cell_type": "code",
      "metadata": {
        "id": "nd2ceqAyz_ri",
        "outputId": "6d37fa4e-2744-4e28-da9c-8fde9661aa46",
        "colab": {
          "base_uri": "https://localhost:8080/",
          "height": 50
        }
      },
      "source": [
        "print(\n",
        "    \"Train loss: \",\n",
        "    history.history[\"loss\"][-1],\n",
        "    \"\\nTest loss:\",\n",
        "    history.history[\"val_loss\"][-1],\n",
        ")"
      ],
      "execution_count": null,
      "outputs": [
        {
          "output_type": "stream",
          "text": [
            "Train loss:  0.05183824896812439 \n",
            "Test loss: 0.0\n"
          ],
          "name": "stdout"
        }
      ]
    },
    {
      "cell_type": "code",
      "metadata": {
        "id": "bWqf5_pBz_rl",
        "outputId": "cb5c3e38-33eb-44c5-ca99-fcfd36720b9b",
        "colab": {
          "base_uri": "https://localhost:8080/",
          "height": 584
        }
      },
      "source": [
        "sg.utils.plot_history(history)"
      ],
      "execution_count": null,
      "outputs": [
        {
          "output_type": "display_data",
          "data": {
            "image/png": "[encoded data removed]",
            "text/plain": [
              "<Figure size 504x576 with 2 Axes>"
            ]
          },
          "metadata": {
            "tags": [],
            "needs_background": "light"
          }
        }
      ]
    },
    {
      "cell_type": "code",
      "metadata": {
        "id": "aeeNDzYTz_ro"
      },
      "source": [
        "ythat = model.predict(trainX)\n",
        "yhat = model.predict(testX)"
      ],
      "execution_count": null,
      "outputs": []
    },
    {
      "cell_type": "markdown",
      "metadata": {
        "id": "gBwXB3Zaz_rr"
      },
      "source": [
        "## Rescale values\n",
        "\n",
        "Rescale the predicted values to the original value range of the timeseries."
      ]
    },
    {
      "cell_type": "code",
      "metadata": {
        "id": "9UGHtR-Uz_rs"
      },
      "source": [
        "## Rescale values\n",
        "max_speed = train_data.max()\n",
        "min_speed = train_data.min()\n",
        "\n",
        "## actual train and test values\n",
        "train_rescref = np.array(trainY * max_speed)\n",
        "test_rescref = np.array(testY * max_speed)"
      ],
      "execution_count": null,
      "outputs": []
    },
    {
      "cell_type": "code",
      "metadata": {
        "id": "_HJ981wzz_rv"
      },
      "source": [
        "## Rescale model predicted values\n",
        "train_rescpred = np.array((ythat) * max_speed)\n",
        "test_rescpred = np.array((yhat) * max_speed)"
      ],
      "execution_count": null,
      "outputs": []
    },
    {
      "cell_type": "markdown",
      "metadata": {
        "id": "x7cikTvvz_ry"
      },
      "source": [
        "## Measuring the performance of the model\n",
        "\n",
        "To understand how well the model is performing, we compare it against a naive benchmark.\n",
        "\n",
        "1. Naive prediction: using the most recently **observed** value as the predicted value. Note, that albeit being **naive** this is a very strong baseline to beat. Especially, when speeds are recorded at a 5 minutes granularity,  one does not expect many drastic changes within such a short period of time. Hence, for short-term predictions naive is a reasonable good guess."
      ]
    },
    {
      "cell_type": "markdown",
      "metadata": {
        "id": "3JLJxDBIz_ry"
      },
      "source": [
        "### Naive prediction benchmark (using latest observed value)"
      ]
    },
    {
      "cell_type": "code",
      "metadata": {
        "id": "7yC2VRfdz_rz"
      },
      "source": [
        "## Naive prediction benchmark (using previous observed value)\n",
        "\n",
        "testnpred = np.array(testX)[\n",
        "    :, :, -1\n",
        "]  # picking the last speed of the 10 sequence for each segment in each sample\n",
        "testnpredc = (testnpred) * max_speed"
      ],
      "execution_count": null,
      "outputs": []
    },
    {
      "cell_type": "code",
      "metadata": {
        "id": "OmAnzCd4z_r2",
        "outputId": "7cf6e3f6-8cc0-40f0-eb7a-d2ec2b486497",
        "colab": {
          "base_uri": "https://localhost:8080/",
          "height": 83
        }
      },
      "source": [
        "## Performance measures\n",
        "\n",
        "seg_mael = []\n",
        "seg_masel = []\n",
        "seg_nmael = []\n",
        "\n",
        "for j in range(testX.shape[-1]):\n",
        "\n",
        "    seg_mael.append(\n",
        "        np.mean(np.abs(test_rescref.T[j] - test_rescpred.T[j]))\n",
        "    )  # Mean Absolute Error for NN\n",
        "    seg_nmael.append(\n",
        "        np.mean(np.abs(test_rescref.T[j] - testnpredc.T[j]))\n",
        "    )  # Mean Absolute Error for naive prediction\n",
        "    if seg_nmael[-1] != 0:\n",
        "        seg_masel.append(\n",
        "            seg_mael[-1] / seg_nmael[-1]\n",
        "        )  # Ratio of the two: Mean Absolute Scaled Error\n",
        "    else:\n",
        "        seg_masel.append(np.NaN)\n",
        "\n",
        "print(\"Total (ave) MAE for NN: \" + str(np.mean(np.array(seg_mael))))\n",
        "print(\"Total (ave) MAE for naive prediction: \" + str(np.mean(np.array(seg_nmael))))\n",
        "print(\n",
        "    \"Total (ave) MASE for per-segment NN/naive MAE: \"\n",
        "    + str(np.nanmean(np.array(seg_masel)))\n",
        ")\n",
        "print(\n",
        "    \"...note that MASE<1 (for a given segment) means that the NN prediction is better than the naive prediction.\"\n",
        ")"
      ],
      "execution_count": null,
      "outputs": [
        {
          "output_type": "stream",
          "text": [
            "Total (ave) MAE for NN: 4.200296092064393\n",
            "Total (ave) MAE for naive prediction: 5.619645381284217\n",
            "Total (ave) MASE for per-segment NN/naive MAE: 0.7340692620796408\n",
            "...note that MASE<1 (for a given segment) means that the NN prediction is better than the naive prediction.\n"
          ],
          "name": "stdout"
        }
      ]
    },
    {
      "cell_type": "code",
      "metadata": {
        "id": "H-FP-_qNz_r5",
        "outputId": "77b4616a-9558-44e1-ddd1-7c2dc612c0bb",
        "colab": {
          "base_uri": "https://localhost:8080/",
          "height": 294
        }
      },
      "source": [
        "# plot violin plot of MAE for naive and NN predictions\n",
        "fig, ax = plt.subplots()\n",
        "# xl = minsl\n",
        "\n",
        "ax.violinplot(\n",
        "    list(seg_mael), showmeans=True, showmedians=False, showextrema=False, widths=1.0\n",
        ")\n",
        "\n",
        "ax.violinplot(\n",
        "    list(seg_nmael), showmeans=True, showmedians=False, showextrema=False, widths=1.0\n",
        ")\n",
        "\n",
        "line1 = mlines.Line2D([], [], label=\"NN\")\n",
        "line2 = mlines.Line2D([], [], color=\"C1\", label=\"Instantaneous\")\n",
        "\n",
        "ax.set_xlabel(\"Scaled distribution amplitude (after Gaussian convolution)\")\n",
        "ax.set_ylabel(\"Mean Absolute Error\")\n",
        "ax.set_title(\"Distribution over segments: NN pred (blue) and naive pred (orange)\")\n",
        "plt.legend(handles=(line1, line2), title=\"Prediction Model\", loc=2)\n",
        "plt.show()"
      ],
      "execution_count": null,
      "outputs": [
        {
          "output_type": "display_data",
          "data": {
            "image/png": "[encoded data removed]",
            "text/plain": [
              "<Figure size 432x288 with 1 Axes>"
            ]
          },
          "metadata": {
            "tags": [],
            "needs_background": "light"
          }
        }
      ]
    },
    {
      "cell_type": "markdown",
      "metadata": {
        "id": "OBJ0OF0Xz_r8"
      },
      "source": [
        "#### Plot of actual and predicted speeds on a sample sensor"
      ]
    },
    {
      "cell_type": "code",
      "metadata": {
        "id": "L1mBN5EMQyI9",
        "outputId": "0b1d145e-df17-49d4-f8ca-ee59f51afa13",
        "colab": {
          "base_uri": "https://localhost:8080/",
          "height": 33
        }
      },
      "source": [
        "test_rescpred.shape"
      ],
      "execution_count": null,
      "outputs": [
        {
          "output_type": "execute_result",
          "data": {
            "text/plain": [
              "(383, 207)"
            ]
          },
          "metadata": {
            "tags": []
          },
          "execution_count": 61
        }
      ]
    },
    {
      "cell_type": "code",
      "metadata": {
        "id": "MuiInh1pz_r8",
        "outputId": "7472909e-87f6-4106-fa7a-14a76d98c1df",
        "colab": {
          "base_uri": "https://localhost:8080/",
          "height": 496
        }
      },
      "source": [
        "##all test result visualization\n",
        "fig1 = plt.figure(figsize=(15, 8))\n",
        "#    ax1 = fig1.add_subplot(1,1,1)\n",
        "a_pred = test_rescpred[:, 95]\n",
        "a_true = test_rescref[:, 95]\n",
        "plt.plot(a_pred, \"r-\", label=\"prediction\")\n",
        "plt.plot(a_true, \"b-\", label=\"true\")\n",
        "plt.xlabel(\"time\")\n",
        "plt.ylabel(\"speed\")\n",
        "plt.legend(loc=\"best\", fontsize=10)\n",
        "plt.show()"
      ],
      "execution_count": null,
      "outputs": [
        {
          "output_type": "display_data",
          "data": {
            "image/png": "[encoded data removed]",
            "text/plain": [
              "<Figure size 1080x576 with 1 Axes>"
            ]
          },
          "metadata": {
            "tags": [],
            "needs_background": "light"
          }
        }
      ]
    },
    {
      "cell_type": "markdown",
      "metadata": {
        "nbsphinx": "hidden",
        "tags": [
          "CloudRunner"
        ],
        "id": "ef0YxBZpz_sA"
      },
      "source": [
        "<table><tr><td>Run the latest release of this notebook:</td><td><a href=\"https://mybinder.org/v2/gh/stellargraph/stellargraph/master?urlpath=lab/tree/demos/time-series/gcn-lstm-time-series.ipynb\" alt=\"Open In Binder\" target=\"_parent\"><img src=\"https://mybinder.org/badge_logo.svg\"/></a></td><td><a href=\"https://colab.research.google.com/github/stellargraph/stellargraph/blob/master/demos/time-series/gcn-lstm-time-series.ipynb\" alt=\"Open In Colab\" target=\"_parent\"><img src=\"https://colab.research.google.com/assets/colab-badge.svg\"/></a></td></tr></table>"
      ]
    }
  ]
}